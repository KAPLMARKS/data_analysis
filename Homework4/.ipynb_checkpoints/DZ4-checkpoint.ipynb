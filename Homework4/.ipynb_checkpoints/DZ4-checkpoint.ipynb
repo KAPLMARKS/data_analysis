{
 "cells": [
  {
   "cell_type": "code",
   "execution_count": 2,
   "metadata": {},
   "outputs": [],
   "source": [
    "import numpy as np\n",
    "import pandas as pd\n",
    "import pylab as pl\n",
    "import matplotlib.pyplot as plt\n",
    "plt.style.use('ggplot')\n",
    "%matplotlib inline\n",
    "import seaborn as sns\n",
    "\n",
    "from sklearn.tree import DecisionTreeClassifier\n",
    "import sklearn.metrics as metrics\n",
    "from sklearn.model_selection import train_test_split\n",
    "from sklearn.linear_model import LogisticRegression\n",
    "df=pd.read_csv(\"ORGANICS.csv\",encoding=\"cp1251\")"
   ]
  },
  {
   "cell_type": "code",
   "execution_count": 9,
   "metadata": {},
   "outputs": [
    {
     "name": "stdout",
     "output_type": "stream",
     "text": [
      "(22223, 13)\n",
      "<class 'pandas.core.frame.DataFrame'>\n",
      "RangeIndex: 22223 entries, 0 to 22222\n",
      "Data columns (total 13 columns):\n",
      "ID                 22223 non-null int64\n",
      "DemAffl            22223 non-null float64\n",
      "DemAge             22223 non-null float64\n",
      "DemCluster         22223 non-null float64\n",
      "DemClusterGroup    21549 non-null object\n",
      "DemGender          19711 non-null object\n",
      "DemReg             21758 non-null object\n",
      "DemTVReg           21758 non-null object\n",
      "PromClass          22223 non-null object\n",
      "PromSpend          22223 non-null float64\n",
      "PromTime           22223 non-null float64\n",
      "TargetBuy          22223 non-null int64\n",
      "TargetAmt          22223 non-null int64\n",
      "dtypes: float64(5), int64(3), object(5)\n",
      "memory usage: 2.2+ MB\n"
     ]
    }
   ],
   "source": [
    "print(df.shape)\n",
    "df.info()\n",
    "df = df.fillna(df.median(axis=0), axis=0)"
   ]
  },
  {
   "cell_type": "code",
   "execution_count": 10,
   "metadata": {},
   "outputs": [
    {
     "name": "stdout",
     "output_type": "stream",
     "text": [
      "0.7940602969851508\n",
      "0.39489671931956255\n",
      "0.6329113924050633\n",
      "0.48634493078937524\n",
      "0.6599060374132169\n",
      "0.3820147301799347\n",
      "0.3660812629799972\n"
     ]
    }
   ],
   "source": [
    "x=df[['DemAffl',  'DemAge', 'DemCluster', 'PromSpend', 'PromTime']]\n",
    "y=df.values[::,11]\n",
    "x_train, x_test, y_train, y_test = train_test_split(x, y, test_size=0.3)\n",
    "y_train = y_train.astype(int)\n",
    "y_test = y_test.astype(int)\n",
    "\n",
    "tree=DecisionTreeClassifier(criterion='entropy', max_depth=10, min_samples_leaf=40)\n",
    "tree.fit(x_train, y_train)\n",
    "y_score = tree.predict(x_test)\n",
    "\n",
    "print(metrics.accuracy_score(y_test, y_score))\n",
    "print(metrics.recall_score(y_test, y_score))\n",
    "print(metrics.precision_score(y_test, y_score))\n",
    "print(metrics.f1_score(y_test, y_score))\n",
    "print(metrics.balanced_accuracy_score(y_test, y_score))\n",
    "print(metrics.matthews_corrcoef(y_test, y_score))\n",
    "print(metrics.cohen_kappa_score(y_test, y_score))"
   ]
  },
  {
   "cell_type": "code",
   "execution_count": 11,
   "metadata": {},
   "outputs": [
    {
     "name": "stdout",
     "output_type": "stream",
     "text": [
      "[[0.54545455 0.45454545]\n",
      " [0.8629131  0.1370869 ]\n",
      " [0.8629131  0.1370869 ]\n",
      " ...\n",
      " [0.69230769 0.30769231]\n",
      " [0.83544304 0.16455696]\n",
      " [0.         1.        ]]\n",
      "[0.45454545 0.1370869  0.1370869  ... 0.30769231 0.16455696 1.        ]\n"
     ]
    },
    {
     "data": {
      "image/png": "[encoded data removed]",
      "text/plain": [
       "<Figure size 432x288 with 1 Axes>"
      ]
     },
     "metadata": {
      "needs_background": "light"
     },
     "output_type": "display_data"
    }
   ],
   "source": [
    "probs = tree.predict_proba(x_test)\n",
    "print(probs)\n",
    "preds = probs[:,1]\n",
    "print(preds)\n",
    "fpr, tpr, threshold = metrics.roc_curve(y_test, preds)\n",
    "roc_auc = metrics.auc(fpr, tpr)\n",
    "\n",
    "plt.title('ROC')\n",
    "plt.plot(fpr, tpr, 'b', label = 'AUC = %0.2f' % roc_auc)\n",
    "plt.legend(loc = 'lower right')\n",
    "plt.plot([0, 1], [0, 1],'r--')\n",
    "plt.xlim([0, 1])\n",
    "plt.ylim([0, 1])\n",
    "plt.ylabel('True Positive Rate')\n",
    "plt.xlabel('False Positive Rate')\n",
    "plt.show()"
   ]
  },
  {
   "cell_type": "code",
   "execution_count": 12,
   "metadata": {},
   "outputs": [
    {
     "name": "stdout",
     "output_type": "stream",
     "text": [
      "0.7453127343632818\n",
      "0.6591737545565006\n",
      "0.4882988298829883\n",
      "0.5610134436401241\n",
      "0.7163624199988239\n",
      "0.3958347721420215\n",
      "0.38718751102953197\n"
     ]
    }
   ],
   "source": [
    "tree_balanced = DecisionTreeClassifier(criterion='entropy', max_depth=8, min_samples_leaf=50, class_weight='balanced')\n",
    "tree_balanced.fit(x_train, y_train)\n",
    "\n",
    "y_score = tree_balanced.predict(x_test)\n",
    "\n",
    "print(metrics.accuracy_score(y_test, y_score))\n",
    "print(metrics.recall_score(y_test, y_score))\n",
    "print(metrics.precision_score(y_test, y_score))\n",
    "print(metrics.f1_score(y_test, y_score))\n",
    "print(metrics.balanced_accuracy_score(y_test, y_score))\n",
    "print(metrics.matthews_corrcoef(y_test, y_score))\n",
    "print(metrics.cohen_kappa_score(y_test, y_score))"
   ]
  },
  {
   "cell_type": "code",
   "execution_count": null,
   "metadata": {},
   "outputs": [],
   "source": []
  }
 ],
 "metadata": {
  "kernelspec": {
   "display_name": "Python 3",
   "language": "python",
   "name": "python3"
  },
  "language_info": {
   "codemirror_mode": {
    "name": "ipython",
    "version": 3
   },
   "file_extension": ".py",
   "mimetype": "text/x-python",
   "name": "python",
   "nbconvert_exporter": "python",
   "pygments_lexer": "ipython3",
   "version": "3.7.4"
  }
 },
 "nbformat": 4,
 "nbformat_minor": 2
}
