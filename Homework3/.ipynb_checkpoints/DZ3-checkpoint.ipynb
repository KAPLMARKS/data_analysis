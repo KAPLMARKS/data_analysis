{
 "cells": [
  {
   "cell_type": "code",
   "execution_count": 1,
   "metadata": {},
   "outputs": [],
   "source": [
    "import numpy as np\n",
    "import pandas as pd\n",
    "import pylab as pl\n",
    "import matplotlib.pyplot as plt\n",
    "plt.style.use('ggplot')\n",
    "%matplotlib inline\n",
    "import seaborn as sns"
   ]
  },
  {
   "cell_type": "code",
   "execution_count": 2,
   "metadata": {},
   "outputs": [
    {
     "name": "stdout",
     "output_type": "stream",
     "text": [
      "(22223, 13)\n",
      "<class 'pandas.core.frame.DataFrame'>\n",
      "RangeIndex: 22223 entries, 0 to 22222\n",
      "Data columns (total 13 columns):\n",
      "ID                 22223 non-null int64\n",
      "DemAffl            21138 non-null float64\n",
      "DemAge             20715 non-null float64\n",
      "DemCluster         21549 non-null float64\n",
      "DemClusterGroup    21549 non-null object\n",
      "DemGender          19711 non-null object\n",
      "DemReg             21758 non-null object\n",
      "DemTVReg           21758 non-null object\n",
      "PromClass          22223 non-null object\n",
      "PromSpend          22223 non-null float64\n",
      "PromTime           21942 non-null float64\n",
      "TargetBuy          22223 non-null int64\n",
      "TargetAmt          22223 non-null int64\n",
      "dtypes: float64(5), int64(3), object(5)\n",
      "memory usage: 2.2+ MB\n",
      "None\n"
     ]
    }
   ],
   "source": [
    "df=pd.read_csv(\"ORGANICS.csv\", encoding=\"cp1251\")\n",
    "print(df.shape)\n",
    "print(df.info())"
   ]
  },
  {
   "cell_type": "code",
   "execution_count": 3,
   "metadata": {},
   "outputs": [
    {
     "name": "stdout",
     "output_type": "stream",
     "text": [
      "             ID  DemAffl  DemAge  DemCluster DemClusterGroup DemGender  \\\n",
      "0           140     10.0    76.0        16.0               C         U   \n",
      "1           620      4.0    49.0        35.0               D         U   \n",
      "2           868      5.0    70.0        27.0               D         F   \n",
      "3          1120     10.0    65.0        51.0               F         M   \n",
      "4          2313     11.0    68.0         4.0               A         F   \n",
      "...         ...      ...     ...         ...             ...       ...   \n",
      "22216  52830893     13.0    49.0         8.0               B         M   \n",
      "22218  52834058     13.0    65.0         9.0               B         F   \n",
      "22219  52834376     15.0    73.0        34.0               D         U   \n",
      "22220  52837057      9.0    70.0        15.0               B         F   \n",
      "22221  52838096     11.0    66.0         8.0               B         F   \n",
      "\n",
      "           DemReg      DemTVReg PromClass  PromSpend  PromTime  TargetBuy  \\\n",
      "0        Midlands  Wales & West      Gold   16000.00       4.0          0   \n",
      "1        Midlands  Wales & West      Gold    6000.00       5.0          0   \n",
      "2        Midlands  Wales & West    Silver       0.02       8.0          1   \n",
      "3        Midlands      Midlands       Tin       0.01       7.0          1   \n",
      "4        Midlands      Midlands       Tin       0.01       8.0          0   \n",
      "...           ...           ...       ...        ...       ...        ...   \n",
      "22216  South East        London    Silver     500.00       9.0          0   \n",
      "22218  South East        London    Silver    1500.00       5.0          0   \n",
      "22219  South East    S & S East      Gold    6053.06      12.0          0   \n",
      "22220       North     Yorkshire      Gold    6000.00       5.0          0   \n",
      "22221       North        N West    Silver    5000.00       5.0          0   \n",
      "\n",
      "       TargetAmt  \n",
      "0              0  \n",
      "1              0  \n",
      "2              1  \n",
      "3              1  \n",
      "4              0  \n",
      "...          ...  \n",
      "22216          0  \n",
      "22218          0  \n",
      "22219          0  \n",
      "22220          0  \n",
      "22221          0  \n",
      "\n",
      "[16408 rows x 13 columns]\n"
     ]
    }
   ],
   "source": [
    "dataWithoutNull = df.dropna()\n",
    "print(dataWithoutNull)"
   ]
  },
  {
   "cell_type": "code",
   "execution_count": 4,
   "metadata": {},
   "outputs": [
    {
     "name": "stdout",
     "output_type": "stream",
     "text": [
      "             ID  DemAffl  DemAge  DemCluster DemClusterGroup DemGender  \\\n",
      "0           140     10.0    76.0        16.0               C         U   \n",
      "1           620      4.0    49.0        35.0               D         U   \n",
      "2           868      5.0    70.0        27.0               D         F   \n",
      "3          1120     10.0    65.0        51.0               F         M   \n",
      "4          2313     11.0    68.0         4.0               A         F   \n",
      "...         ...      ...     ...         ...             ...       ...   \n",
      "22218  52834058     13.0    65.0         9.0               B         F   \n",
      "22219  52834376     15.0    73.0        34.0               D         U   \n",
      "22220  52837057      9.0    70.0        15.0               B         F   \n",
      "22221  52838096     11.0    66.0         8.0               B         F   \n",
      "22222  52856469      3.0    75.0        53.0               F       NaN   \n",
      "\n",
      "           DemReg      DemTVReg PromClass  PromSpend  PromTime  TargetBuy  \\\n",
      "0        Midlands  Wales & West      Gold   16000.00       4.0          0   \n",
      "1        Midlands  Wales & West      Gold    6000.00       5.0          0   \n",
      "2        Midlands  Wales & West    Silver       0.02       8.0          1   \n",
      "3        Midlands      Midlands       Tin       0.01       7.0          1   \n",
      "4        Midlands      Midlands       Tin       0.01       8.0          0   \n",
      "...           ...           ...       ...        ...       ...        ...   \n",
      "22218  South East        London    Silver    1500.00       5.0          0   \n",
      "22219  South East    S & S East      Gold    6053.06      12.0          0   \n",
      "22220       North     Yorkshire      Gold    6000.00       5.0          0   \n",
      "22221       North        N West    Silver    5000.00       5.0          0   \n",
      "22222  South West        S West      Gold    6000.00       2.0          0   \n",
      "\n",
      "       TargetAmt  \n",
      "0              0  \n",
      "1              0  \n",
      "2              1  \n",
      "3              1  \n",
      "4              0  \n",
      "...          ...  \n",
      "22218          0  \n",
      "22219          0  \n",
      "22220          0  \n",
      "22221          0  \n",
      "22222          0  \n",
      "\n",
      "[22223 rows x 13 columns]\n"
     ]
    }
   ],
   "source": [
    "dataAverage = df.fillna(df.mean())\n",
    "print(dataAverage)"
   ]
  },
  {
   "cell_type": "code",
   "execution_count": 9,
   "metadata": {},
   "outputs": [],
   "source": [
    "xWitNull=dataWithoutNull[['DemAffl',  'DemAge', 'DemCluster', 'PromSpend', 'PromTime']]\n",
    "yWitNull=dataWithoutNull.values[::,11]\n",
    "xAverage=dataAverage[['DemAffl',  'DemAge', 'DemCluster', 'PromSpend', 'PromTime']]\n",
    "yAverage=dataAverage.values[::,11]\n",
    "yWitNull=yWitNull.astype('int')\n",
    "yAverage=yAverage.astype('int')"
   ]
  },
  {
   "cell_type": "code",
   "execution_count": 11,
   "metadata": {},
   "outputs": [],
   "source": [
    "from sklearn.model_selection import train_test_split\n",
    "X_train, X_test, y_train, y_test = train_test_split(xWitNull, yWitNull, test_size=0.3)\n",
    "XA_train, XA_test, yA_train, yA_test = train_test_split(xAverage, yAverage, test_size=0.3)"
   ]
  },
  {
   "cell_type": "code",
   "execution_count": 12,
   "metadata": {},
   "outputs": [
    {
     "data": {
      "text/plain": [
       "DecisionTreeClassifier(class_weight=None, criterion='gini', max_depth=4,\n",
       "                       max_features=None, max_leaf_nodes=None,\n",
       "                       min_impurity_decrease=0.0, min_impurity_split=None,\n",
       "                       min_samples_leaf=1, min_samples_split=2,\n",
       "                       min_weight_fraction_leaf=0.0, presort=False,\n",
       "                       random_state=0, splitter='best')"
      ]
     },
     "execution_count": 12,
     "metadata": {},
     "output_type": "execute_result"
    }
   ],
   "source": [
    "from sklearn.tree import DecisionTreeClassifier\n",
    "tree1=DecisionTreeClassifier(max_depth=4, random_state=0)\n",
    "tree1.fit(X_train, y_train)\n",
    "tree2=DecisionTreeClassifier(max_depth=4, random_state=0)\n",
    "tree2.fit(XA_train, yA_train)"
   ]
  },
  {
   "cell_type": "code",
   "execution_count": 22,
   "metadata": {},
   "outputs": [
    {
     "name": "stdout",
     "output_type": "stream",
     "text": [
      "0.8001741401828472\n",
      "0.7989031078610603\n",
      "0.8038056055541271\n",
      "0.8015599220038998\n"
     ]
    }
   ],
   "source": [
    "from sklearn.tree import export_graphviz\n",
    "\n",
    "import subprocess\n",
    "\n",
    "export_graphviz(tree1, out_file='C:/Users/shiga/Desktop/python/data_analysis/Homework3/Organics_treeWitNull.dot', \n",
    "               rounded = True, proportion = False, \n",
    "                precision = 2, filled = True)\n",
    "\n",
    "export_graphviz(tree2, out_file='C:/Users/shiga/Desktop/python/data_analysis/Homework3/Organics_treeA.dot', \n",
    "               rounded = True, proportion = False, \n",
    "                precision = 2, filled = True)\n",
    "\n",
    "import pydot\n",
    "(graphWitNull, ) = pydot.graph_from_dot_file('C:/Users/shiga/Desktop/python/data_analysis/Homework3/Organics_treeWitNull.dot')\n",
    "\n",
    "(graphA, ) = pydot.graph_from_dot_file('C:/Users/shiga/Desktop/python/data_analysis/Homework3/Organics_treeA.dot')\n",
    "\n",
    "graphWitNull.write_png('C:/Users/shiga/Desktop/python/data_analysis/Homework3/Organics_treeWitNull.dot')\n",
    "graphA.write_png('C:/Users/shiga/Desktop/python/data_analysis/Homework3/Organics_treeA.dot')\n",
    "\n",
    "print(tree1.score(X_train, y_train)) \n",
    "print(tree1.score(X_test,y_test)) \n",
    "\n",
    "print(tree2.score(XA_train, yA_train)) \n",
    "print(tree2.score(XA_test,yA_test))"
   ]
  },
  {
   "cell_type": "code",
   "execution_count": 24,
   "metadata": {},
   "outputs": [],
   "source": [
    "### DZ1\n",
    "### Обучите решающее дерево с параметрами criterion = entropy и max_depth =5.\n",
    "### Какую точность дает данное дерево на контроле? Визуализируйте разделяющую поверхность."
   ]
  },
  {
   "cell_type": "code",
   "execution_count": 25,
   "metadata": {},
   "outputs": [
    {
     "name": "stdout",
     "output_type": "stream",
     "text": [
      "0.8020896821941663\n",
      "0.79626244160065\n"
     ]
    }
   ],
   "source": [
    "tree=DecisionTreeClassifier(max_depth=5, criterion='entropy')\n",
    "tree.fit(X_train, y_train)\n",
    "\n",
    "print(tree.score(X_train, y_train)) \n",
    "print(tree.score(X_test,y_test))\n",
    "\n",
    "export_graphviz(tree1, out_file='C:/Users/shiga/Desktop/python/data_analysis/Homework3/Task1.dot', \n",
    "               rounded = True, proportion = False, \n",
    "                precision = 2, filled = True)\n",
    "(graphR, ) = pydot.graph_from_dot_file('C:/Users/shiga/Desktop/python/data_analysis/Homework3/Task1.dot')\n",
    "graphR.write_png('C:/Users/shiga/Desktop/python/data_analysis/Homework3/Task1.png')"
   ]
  },
  {
   "cell_type": "code",
   "execution_count": 26,
   "metadata": {},
   "outputs": [],
   "source": [
    "### Выполните предыдущий пункт для разных значений глубины дерева и минимального числа объектов в \n",
    "### листе (параметры max_depth и min_samples_leaf). Результаты запишите в виде таблицы.  \n",
    "### Как эти параметры влияют на вид разделяющей поверхности и точность модели?"
   ]
  },
  {
   "cell_type": "code",
   "execution_count": 31,
   "metadata": {},
   "outputs": [
    {
     "data": {
      "text/html": [
       "<div>\n",
       "<style scoped>\n",
       "    .dataframe tbody tr th:only-of-type {\n",
       "        vertical-align: middle;\n",
       "    }\n",
       "\n",
       "    .dataframe tbody tr th {\n",
       "        vertical-align: top;\n",
       "    }\n",
       "\n",
       "    .dataframe thead th {\n",
       "        text-align: right;\n",
       "    }\n",
       "</style>\n",
       "<table border=\"1\" class=\"dataframe\">\n",
       "  <thead>\n",
       "    <tr style=\"text-align: right;\">\n",
       "      <th></th>\n",
       "      <th>1</th>\n",
       "      <th>2</th>\n",
       "      <th>3</th>\n",
       "      <th>4</th>\n",
       "      <th>5</th>\n",
       "      <th>6</th>\n",
       "      <th>7</th>\n",
       "      <th>8</th>\n",
       "      <th>9</th>\n",
       "      <th>10</th>\n",
       "    </tr>\n",
       "  </thead>\n",
       "  <tbody>\n",
       "    <tr>\n",
       "      <td>1</td>\n",
       "      <td>0.762125</td>\n",
       "      <td>0.762125</td>\n",
       "      <td>0.762125</td>\n",
       "      <td>0.762125</td>\n",
       "      <td>0.762125</td>\n",
       "      <td>0.762125</td>\n",
       "      <td>0.762125</td>\n",
       "      <td>0.762125</td>\n",
       "      <td>0.762125</td>\n",
       "      <td>0.762125</td>\n",
       "    </tr>\n",
       "    <tr>\n",
       "      <td>2</td>\n",
       "      <td>0.790509</td>\n",
       "      <td>0.790509</td>\n",
       "      <td>0.790509</td>\n",
       "      <td>0.790509</td>\n",
       "      <td>0.790509</td>\n",
       "      <td>0.790509</td>\n",
       "      <td>0.790509</td>\n",
       "      <td>0.790509</td>\n",
       "      <td>0.790509</td>\n",
       "      <td>0.790509</td>\n",
       "    </tr>\n",
       "    <tr>\n",
       "      <td>3</td>\n",
       "      <td>0.797040</td>\n",
       "      <td>0.797040</td>\n",
       "      <td>0.797040</td>\n",
       "      <td>0.797040</td>\n",
       "      <td>0.797040</td>\n",
       "      <td>0.797040</td>\n",
       "      <td>0.797040</td>\n",
       "      <td>0.797040</td>\n",
       "      <td>0.797040</td>\n",
       "      <td>0.797040</td>\n",
       "    </tr>\n",
       "    <tr>\n",
       "      <td>4</td>\n",
       "      <td>0.800174</td>\n",
       "      <td>0.800174</td>\n",
       "      <td>0.800174</td>\n",
       "      <td>0.800174</td>\n",
       "      <td>0.800174</td>\n",
       "      <td>0.800174</td>\n",
       "      <td>0.800174</td>\n",
       "      <td>0.800174</td>\n",
       "      <td>0.800174</td>\n",
       "      <td>0.800174</td>\n",
       "    </tr>\n",
       "    <tr>\n",
       "      <td>5</td>\n",
       "      <td>0.802873</td>\n",
       "      <td>0.802873</td>\n",
       "      <td>0.802873</td>\n",
       "      <td>0.802873</td>\n",
       "      <td>0.802873</td>\n",
       "      <td>0.802873</td>\n",
       "      <td>0.802873</td>\n",
       "      <td>0.802873</td>\n",
       "      <td>0.802873</td>\n",
       "      <td>0.802873</td>\n",
       "    </tr>\n",
       "    <tr>\n",
       "      <td>6</td>\n",
       "      <td>0.807053</td>\n",
       "      <td>0.806791</td>\n",
       "      <td>0.806791</td>\n",
       "      <td>0.806530</td>\n",
       "      <td>0.805660</td>\n",
       "      <td>0.805921</td>\n",
       "      <td>0.805921</td>\n",
       "      <td>0.805311</td>\n",
       "      <td>0.805311</td>\n",
       "      <td>0.805224</td>\n",
       "    </tr>\n",
       "    <tr>\n",
       "      <td>7</td>\n",
       "      <td>0.812538</td>\n",
       "      <td>0.811929</td>\n",
       "      <td>0.811842</td>\n",
       "      <td>0.811232</td>\n",
       "      <td>0.810710</td>\n",
       "      <td>0.810710</td>\n",
       "      <td>0.810710</td>\n",
       "      <td>0.809839</td>\n",
       "      <td>0.809578</td>\n",
       "      <td>0.808794</td>\n",
       "    </tr>\n",
       "    <tr>\n",
       "      <td>8</td>\n",
       "      <td>0.817153</td>\n",
       "      <td>0.815498</td>\n",
       "      <td>0.815237</td>\n",
       "      <td>0.814802</td>\n",
       "      <td>0.815411</td>\n",
       "      <td>0.814541</td>\n",
       "      <td>0.813757</td>\n",
       "      <td>0.812799</td>\n",
       "      <td>0.812277</td>\n",
       "      <td>0.811145</td>\n",
       "    </tr>\n",
       "    <tr>\n",
       "      <td>9</td>\n",
       "      <td>0.824380</td>\n",
       "      <td>0.821506</td>\n",
       "      <td>0.822116</td>\n",
       "      <td>0.821158</td>\n",
       "      <td>0.821593</td>\n",
       "      <td>0.821593</td>\n",
       "      <td>0.820374</td>\n",
       "      <td>0.818546</td>\n",
       "      <td>0.817588</td>\n",
       "      <td>0.816108</td>\n",
       "    </tr>\n",
       "    <tr>\n",
       "      <td>10</td>\n",
       "      <td>0.835525</td>\n",
       "      <td>0.830997</td>\n",
       "      <td>0.831955</td>\n",
       "      <td>0.829343</td>\n",
       "      <td>0.828907</td>\n",
       "      <td>0.828124</td>\n",
       "      <td>0.826992</td>\n",
       "      <td>0.824467</td>\n",
       "      <td>0.823074</td>\n",
       "      <td>0.821680</td>\n",
       "    </tr>\n",
       "  </tbody>\n",
       "</table>\n",
       "</div>"
      ],
      "text/plain": [
       "           1         2         3         4         5         6         7  \\\n",
       "1   0.762125  0.762125  0.762125  0.762125  0.762125  0.762125  0.762125   \n",
       "2   0.790509  0.790509  0.790509  0.790509  0.790509  0.790509  0.790509   \n",
       "3   0.797040  0.797040  0.797040  0.797040  0.797040  0.797040  0.797040   \n",
       "4   0.800174  0.800174  0.800174  0.800174  0.800174  0.800174  0.800174   \n",
       "5   0.802873  0.802873  0.802873  0.802873  0.802873  0.802873  0.802873   \n",
       "6   0.807053  0.806791  0.806791  0.806530  0.805660  0.805921  0.805921   \n",
       "7   0.812538  0.811929  0.811842  0.811232  0.810710  0.810710  0.810710   \n",
       "8   0.817153  0.815498  0.815237  0.814802  0.815411  0.814541  0.813757   \n",
       "9   0.824380  0.821506  0.822116  0.821158  0.821593  0.821593  0.820374   \n",
       "10  0.835525  0.830997  0.831955  0.829343  0.828907  0.828124  0.826992   \n",
       "\n",
       "           8         9        10  \n",
       "1   0.762125  0.762125  0.762125  \n",
       "2   0.790509  0.790509  0.790509  \n",
       "3   0.797040  0.797040  0.797040  \n",
       "4   0.800174  0.800174  0.800174  \n",
       "5   0.802873  0.802873  0.802873  \n",
       "6   0.805311  0.805311  0.805224  \n",
       "7   0.809839  0.809578  0.808794  \n",
       "8   0.812799  0.812277  0.811145  \n",
       "9   0.818546  0.817588  0.816108  \n",
       "10  0.824467  0.823074  0.821680  "
      ]
     },
     "execution_count": 31,
     "metadata": {},
     "output_type": "execute_result"
    }
   ],
   "source": [
    "datanp = np.zeros((10,10),dtype=float)\n",
    "for depth in range(1,11):\n",
    "    for leaf in range(1,11):\n",
    "        tree=DecisionTreeClassifier(max_depth=depth, min_samples_leaf=leaf)\n",
    "        tree.fit(X_train, y_train)\n",
    "        datanp[depth-1,leaf-1]=tree.score(X_train, y_train)\n",
    "df = pd.DataFrame(data=datanp, index=[\"1\", \"2\", \"3\", \"4\", \"5\", \"6\", \"7\", \"8\", \"9\", \"10\"], \n",
    "                  columns=[\"1\", \"2\", \"3\", \"4\", \"5\", \"6\", \"7\", \"8\", \"9\", \"10\"])\n",
    "df"
   ]
  },
  {
   "cell_type": "code",
   "execution_count": 32,
   "metadata": {},
   "outputs": [],
   "source": [
    "### DZ2\n",
    "### Построить дерево решений для датасетов по вариантам, оформить блокноты с описанием задачи, признаков:\n",
    "### а) titanic.csv  (Описание https://www.kaggle.com/c/titanic/data)"
   ]
  },
  {
   "cell_type": "code",
   "execution_count": 36,
   "metadata": {},
   "outputs": [
    {
     "name": "stdout",
     "output_type": "stream",
     "text": [
      "<class 'pandas.core.frame.DataFrame'>\n",
      "RangeIndex: 887 entries, 0 to 886\n",
      "Data columns (total 8 columns):\n",
      "Survived                   887 non-null int64\n",
      "Pclass                     887 non-null int64\n",
      "Name                       887 non-null object\n",
      "Sex                        887 non-null object\n",
      "Age                        887 non-null float64\n",
      "Siblings/Spouses Aboard    887 non-null int64\n",
      "Parents/Children Aboard    887 non-null int64\n",
      "Fare                       887 non-null float64\n",
      "dtypes: float64(2), int64(4), object(2)\n",
      "memory usage: 55.6+ KB\n",
      "0.7112903225806452\n",
      "0.6704119850187266\n"
     ]
    }
   ],
   "source": [
    "from IPython.display import Image\n",
    "from IPython.core.display import HTML\n",
    "\n",
    "data = pd.read_csv('titanic.csv', encoding=\"cp1251\")\n",
    "data.info()\n",
    "\n",
    "x=data[['Pclass',  'Age', 'Siblings/Spouses Aboard', 'Parents/Children Aboard']]\n",
    "y=data.values[::,0]\n",
    "y=y.astype('int')\n",
    "\n",
    "X_train, X_test, y_train, y_test = train_test_split(x, y, test_size=0.3)\n",
    "\n",
    "tree=DecisionTreeClassifier(max_depth=3, random_state=1)\n",
    "tree.fit(X_train, y_train)\n",
    "\n",
    "export_graphviz(tree, out_file='C:/Users/shiga/Desktop/python/data_analysis/Homework3/Task2.dot', \n",
    "               rounded = True, proportion = False, \n",
    "                precision = 2, filled = True)\n",
    "\n",
    "(graph, ) = pydot.graph_from_dot_file('C:/Users/shiga/Desktop/python/data_analysis/Homework3/Task2.dot')\n",
    "\n",
    "graph.write_png('C:/Users/shiga/Desktop/python/data_analysis/Homework3/Task2.png')\n",
    "\n",
    "print(tree.score(X_train, y_train))\n",
    "print(tree.score(X_test, y_test))"
   ]
  },
  {
   "cell_type": "code",
   "execution_count": null,
   "metadata": {},
   "outputs": [],
   "source": []
  }
 ],
 "metadata": {
  "kernelspec": {
   "display_name": "Python 3",
   "language": "python",
   "name": "python3"
  },
  "language_info": {
   "codemirror_mode": {
    "name": "ipython",
    "version": 3
   },
   "file_extension": ".py",
   "mimetype": "text/x-python",
   "name": "python",
   "nbconvert_exporter": "python",
   "pygments_lexer": "ipython3",
   "version": "3.7.4"
  }
 },
 "nbformat": 4,
 "nbformat_minor": 2
}
